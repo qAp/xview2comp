{
 "cells": [
  {
   "cell_type": "markdown",
   "metadata": {},
   "source": [
    "# Load Data: 2 images in, 1 mask out"
   ]
  },
  {
   "cell_type": "markdown",
   "metadata": {},
   "source": [
    "Prepare data for when 2 images are input into the model, and the output is a multi-label segmentation mask that informs where the features are and the damange level they have."
   ]
  },
  {
   "cell_type": "code",
   "execution_count": 1,
   "metadata": {},
   "outputs": [],
   "source": [
    "%reload_ext autoreload\n",
    "%autoreload 2\n",
    "%matplotlib inline"
   ]
  },
  {
   "cell_type": "code",
   "execution_count": 2,
   "metadata": {},
   "outputs": [],
   "source": [
    "#export \n",
    "from xview2comp.nb_01 import *"
   ]
  },
  {
   "cell_type": "code",
   "execution_count": 3,
   "metadata": {},
   "outputs": [],
   "source": [
    "SOURCE = Path('data/')"
   ]
  },
  {
   "cell_type": "code",
   "execution_count": 6,
   "metadata": {},
   "outputs": [],
   "source": [
    "bs = 4"
   ]
  },
  {
   "cell_type": "code",
   "execution_count": 7,
   "metadata": {},
   "outputs": [],
   "source": [
    "fnames = get_files(SOURCE/'train'/'train'/'images', extensions=['.png',])"
   ]
  },
  {
   "cell_type": "markdown",
   "metadata": {
    "heading_collapsed": true
   },
   "source": [
    "### Damage levels: `str`s to `int`s"
   ]
  },
  {
   "cell_type": "code",
   "execution_count": 143,
   "metadata": {
    "hidden": true
   },
   "outputs": [],
   "source": [
    "#export\n",
    "class DamageCategorize():\n",
    "    def __init__(self):\n",
    "        self.o2i = {'un-classified':1, 'no-damage':1, 'minor-damage':2, 'major-damage':3, 'destroyed':4}\n",
    "    def __call__(self, o): return self.o2i[o]"
   ]
  },
  {
   "cell_type": "code",
   "execution_count": 144,
   "metadata": {
    "hidden": true
   },
   "outputs": [
    {
     "data": {
      "text/plain": [
       "(2, 1)"
      ]
     },
     "execution_count": 144,
     "metadata": {},
     "output_type": "execute_result"
    }
   ],
   "source": [
    "damgcats = DamageCategorize()\n",
    "damgcats('minor-damage'), damgcats('un-classified')"
   ]
  },
  {
   "cell_type": "markdown",
   "metadata": {
    "heading_collapsed": true
   },
   "source": [
    "### Get damage level mask"
   ]
  },
  {
   "cell_type": "markdown",
   "metadata": {
    "hidden": true
   },
   "source": [
    "The target mask will consist of polygons from the pre-disaster `.json` file and damage levels from the post-disaster `.json` file."
   ]
  },
  {
   "cell_type": "code",
   "execution_count": 16,
   "metadata": {
    "hidden": true
   },
   "outputs": [
    {
     "data": {
      "text/plain": [
       "(2799, 5598)"
      ]
     },
     "execution_count": 16,
     "metadata": {},
     "output_type": "execute_result"
    }
   ],
   "source": [
    "npreimgs = pre_img_fpaths(fnames)\n",
    "len(prefns), len(fnames)"
   ]
  },
  {
   "cell_type": "code",
   "execution_count": 17,
   "metadata": {
    "hidden": true
   },
   "outputs": [
    {
     "data": {
      "text/plain": [
       "2799"
      ]
     },
     "execution_count": 17,
     "metadata": {},
     "output_type": "execute_result"
    }
   ],
   "source": [
    "nposimgs = [pre2post_fpath(o) for o in prefns]\n",
    "len(posfns)"
   ]
  },
  {
   "cell_type": "code",
   "execution_count": 85,
   "metadata": {
    "hidden": true
   },
   "outputs": [],
   "source": [
    "def load_features(n:Path): return json.load(open(n))['features']['xy']"
   ]
  },
  {
   "cell_type": "code",
   "execution_count": 160,
   "metadata": {
    "hidden": true
   },
   "outputs": [],
   "source": [
    "def polys2mask(polys, labes=None, sz=(1024, 1024)):\n",
    "    '''Write polygons to a mask using their given labels.'''\n",
    "    if not labes: labes = len(polys) * [1,]\n",
    "    assert len(polys) == len(labes)\n",
    "    polys = [shapely.geometry.mapping(p) for p in polys]\n",
    "    polys = [np.array(p['coordinates'][0], dtype=np.int32) for p in polys]\n",
    "    mask = np.zeros(sz, dtype=np.uint8)\n",
    "    for p, l in zip(polys, labes):\n",
    "        p = np.array([p])\n",
    "        cv2.fillPoly(mask, p, (l,))\n",
    "    return mask"
   ]
  },
  {
   "cell_type": "code",
   "execution_count": 213,
   "metadata": {
    "hidden": true
   },
   "outputs": [],
   "source": [
    "def img2damgmask(o:Path):\n",
    "    ''' Transform image path to multi-label mask, where 0= no feature, 1 = , ..., etc. \n",
    "    o: path to the pre-disaster image.\n",
    "    '''\n",
    "    nprelab = img2label_fpath(o)\n",
    "    nposlab = pre2post_fpath(nprelab)\n",
    "    fprelab, fposlab = load_features(nprelab), load_features(nposlab)\n",
    "    fposlab = [fpos for fpre in fprelab for fpos in fposlab if fpos['properties']['uid']==fpre['properties']['uid']]\n",
    "    if len(fposlab) != len(fprelab): raise Exception('Pre-disaster and post-disaster uids do not match.')\n",
    "    \n",
    "    polys = feats2polys(fprelab)\n",
    "    damgs = [o['properties']['subtype'] for o in fposlab]\n",
    "    labs = list(map(DamageCategorize(), damgs))\n",
    "                \n",
    "    mask0, mask = polys2mask(polys), polys2mask(polys, labs)\n",
    "    mask = np.ma.masked_array(mask, mask=(mask0 > 1))\n",
    "    mask = np.ma.filled(mask, fill_value=0)\n",
    "    return mask"
   ]
  },
  {
   "cell_type": "code",
   "execution_count": 214,
   "metadata": {
    "hidden": true,
    "scrolled": false
   },
   "outputs": [
    {
     "data": {
      "text/plain": [
       "array([[0, 0, 0, 0, ..., 0, 0, 0, 0],\n",
       "       [0, 0, 0, 0, ..., 0, 0, 0, 0],\n",
       "       [0, 0, 0, 0, ..., 0, 0, 0, 0],\n",
       "       [0, 0, 0, 0, ..., 0, 0, 0, 0],\n",
       "       ...,\n",
       "       [0, 0, 0, 0, ..., 0, 0, 0, 0],\n",
       "       [0, 0, 0, 0, ..., 0, 0, 0, 0],\n",
       "       [0, 0, 0, 0, ..., 0, 0, 0, 0],\n",
       "       [0, 0, 0, 0, ..., 0, 0, 0, 0]], dtype=uint8)"
      ]
     },
     "execution_count": 214,
     "metadata": {},
     "output_type": "execute_result"
    }
   ],
   "source": [
    "mask = img2damgmask(npreimgs[78])\n",
    "mask"
   ]
  },
  {
   "cell_type": "code",
   "execution_count": 215,
   "metadata": {
    "hidden": true
   },
   "outputs": [
    {
     "data": {
      "text/plain": [
       "array([0, 1, 2, 3, 4], dtype=uint8)"
      ]
     },
     "execution_count": 215,
     "metadata": {},
     "output_type": "execute_result"
    }
   ],
   "source": [
    "np.unique(mask)"
   ]
  },
  {
   "cell_type": "code",
   "execution_count": 221,
   "metadata": {
    "hidden": true
   },
   "outputs": [
    {
     "data": {
      "image/png": "[encoded data removed]",
      "text/plain": [
       "<Figure size 432x288 with 1 Axes>"
      ]
     },
     "metadata": {
      "needs_background": "light"
     },
     "output_type": "display_data"
    }
   ],
   "source": [
    "plt.imshow(mask, alpha=.3);"
   ]
  },
  {
   "cell_type": "code",
   "execution_count": 224,
   "metadata": {
    "hidden": true
   },
   "outputs": [
    {
     "data": {
      "text/plain": [
       "True"
      ]
     },
     "execution_count": 224,
     "metadata": {},
     "output_type": "execute_result"
    }
   ],
   "source": [
    "np.allclose(np.array(PIL.Image.fromarray(mask)), mask)"
   ]
  },
  {
   "cell_type": "markdown",
   "metadata": {
    "heading_collapsed": true
   },
   "source": [
    "### Saving and loading damage mask"
   ]
  },
  {
   "cell_type": "code",
   "execution_count": 226,
   "metadata": {
    "hidden": true
   },
   "outputs": [],
   "source": [
    "save_mask(mask, 'testsave_damagemask.png')"
   ]
  },
  {
   "cell_type": "code",
   "execution_count": 229,
   "metadata": {
    "hidden": true
   },
   "outputs": [
    {
     "data": {
      "text/plain": [
       "True"
      ]
     },
     "execution_count": 229,
     "metadata": {},
     "output_type": "execute_result"
    }
   ],
   "source": [
    "np.allclose(load_mask('testsave_damagemask.png'), mask)"
   ]
  },
  {
   "cell_type": "markdown",
   "metadata": {},
   "source": [
    "### Produce damage mask for all samples"
   ]
  },
  {
   "cell_type": "code",
   "execution_count": 232,
   "metadata": {},
   "outputs": [],
   "source": [
    "os.makedirs('data/train/train/damagemasks')"
   ]
  },
  {
   "cell_type": "code",
   "execution_count": 276,
   "metadata": {},
   "outputs": [
    {
     "data": {
      "text/plain": [
       "[PosixPath('data/train/train/images'),\n",
       " PosixPath('data/train/train/damagemasks'),\n",
       " PosixPath('data/train/train/labels'),\n",
       " PosixPath('data/train/train/binarymasks')]"
      ]
     },
     "execution_count": 276,
     "metadata": {},
     "output_type": "execute_result"
    }
   ],
   "source": [
    "(SOURCE/'train'/'train').ls()"
   ]
  },
  {
   "cell_type": "code",
   "execution_count": 241,
   "metadata": {},
   "outputs": [],
   "source": [
    "def img2damgmask_fpath(n): \n",
    "    return str(n).replace('images/', 'damagemasks/').replace('_pre_', '_')"
   ]
  },
  {
   "cell_type": "code",
   "execution_count": 245,
   "metadata": {},
   "outputs": [],
   "source": [
    "def generate_damagemasks(fnames):\n",
    "    for n in fnames:\n",
    "        mask = img2damgmask(n)\n",
    "        fpath = img2damgmask_fpath(n)\n",
    "        PIL.Image.fromarray(mask).save(fpath)"
   ]
  },
  {
   "cell_type": "markdown",
   "metadata": {},
   "source": [
    "**Run this cell below to generate the damage mask for all samples in the training set**"
   ]
  },
  {
   "cell_type": "code",
   "execution_count": 272,
   "metadata": {},
   "outputs": [
    {
     "name": "stdout",
     "output_type": "stream",
     "text": [
      "CPU times: user 5min 1s, sys: 4.29 s, total: 5min 5s\n",
      "Wall time: 5min 20s\n"
     ]
    }
   ],
   "source": [
    "#%%time\n",
    "\n",
    "#generate_damagemasks(npreimgs)"
   ]
  },
  {
   "cell_type": "code",
   "execution_count": 275,
   "metadata": {},
   "outputs": [
    {
     "data": {
      "text/plain": [
       "(2799, 2799)"
      ]
     },
     "execution_count": 275,
     "metadata": {},
     "output_type": "execute_result"
    }
   ],
   "source": [
    "len((SOURCE/'train'/'train'/'damagemasks').ls()), len(npreimgs)"
   ]
  },
  {
   "cell_type": "code",
   "execution_count": 268,
   "metadata": {},
   "outputs": [
    {
     "data": {
      "text/plain": [
       "PosixPath('data/train/train/damagemasks/hurricane-harvey_00000228_disaster.png')"
      ]
     },
     "execution_count": 268,
     "metadata": {},
     "output_type": "execute_result"
    }
   ],
   "source": [
    "fname = (SOURCE/'train'/'train'/'damagemasks').ls()[1]\n",
    "fname"
   ]
  },
  {
   "cell_type": "code",
   "execution_count": 269,
   "metadata": {},
   "outputs": [],
   "source": [
    "loaded_mask = np.array(PIL.Image.open(fname))"
   ]
  },
  {
   "cell_type": "code",
   "execution_count": 267,
   "metadata": {},
   "outputs": [
    {
     "data": {
      "text/plain": [
       "PosixPath('data/train/train/images/hurricane-harvey_00000228_pre_disaster.png')"
      ]
     },
     "execution_count": 267,
     "metadata": {},
     "output_type": "execute_result"
    }
   ],
   "source": [
    "npreimgs[1]"
   ]
  },
  {
   "cell_type": "code",
   "execution_count": 270,
   "metadata": {},
   "outputs": [],
   "source": [
    "mask = img2damgmask(npreimgs[1])"
   ]
  },
  {
   "cell_type": "code",
   "execution_count": 271,
   "metadata": {},
   "outputs": [
    {
     "data": {
      "text/plain": [
       "True"
      ]
     },
     "execution_count": 271,
     "metadata": {},
     "output_type": "execute_result"
    }
   ],
   "source": [
    "np.allclose(mask, loaded_mask)"
   ]
  },
  {
   "cell_type": "code",
   "execution_count": 264,
   "metadata": {},
   "outputs": [
    {
     "data": {
      "text/plain": [
       "'hurricane-michael_00000261'"
      ]
     },
     "execution_count": 264,
     "metadata": {},
     "output_type": "execute_result"
    }
   ],
   "source": [
    "'_'.join(npreimgs[2].stem.split('_')[:2])"
   ]
  },
  {
   "cell_type": "markdown",
   "metadata": {},
   "source": [
    "### *Pre-disaster image + post-disaster image* as model input"
   ]
  },
  {
   "cell_type": "code",
   "execution_count": 282,
   "metadata": {},
   "outputs": [],
   "source": [
    "idx = 19"
   ]
  },
  {
   "cell_type": "code",
   "execution_count": 283,
   "metadata": {},
   "outputs": [
    {
     "data": {
      "text/plain": [
       "PosixPath('data/train/train/images/socal-fire_00001344_pre_disaster.png')"
      ]
     },
     "execution_count": 283,
     "metadata": {},
     "output_type": "execute_result"
    }
   ],
   "source": [
    "npreimgs[idx]"
   ]
  },
  {
   "cell_type": "code",
   "execution_count": 284,
   "metadata": {},
   "outputs": [
    {
     "data": {
      "text/plain": [
       "PosixPath('data/train/train/images/socal-fire_00001344_post_disaster.png')"
      ]
     },
     "execution_count": 284,
     "metadata": {},
     "output_type": "execute_result"
    }
   ],
   "source": [
    "pre2post_fpath(npreimgs[idx])"
   ]
  },
  {
   "cell_type": "code",
   "execution_count": 334,
   "metadata": {},
   "outputs": [
    {
     "data": {
      "image/png": "[encoded data removed]",
      "text/plain": [
       "<Figure size 288x288 with 1 Axes>"
      ]
     },
     "metadata": {
      "needs_background": "light"
     },
     "output_type": "display_data"
    }
   ],
   "source": [
    "pretfms = [PIL.Image.open, ResizeFixed(2, resample=PIL.Image.BILINEAR), to_byte_tensor, to_float_tensor, Normalize(1/255)]\n",
    "preimg = compose(npreimgs[idx], pretfms)\n",
    "show_sample(preimg);"
   ]
  },
  {
   "cell_type": "code",
   "execution_count": 335,
   "metadata": {},
   "outputs": [
    {
     "data": {
      "image/png": "[encoded data removed]",
      "text/plain": [
       "<Figure size 288x288 with 1 Axes>"
      ]
     },
     "metadata": {
      "needs_background": "light"
     },
     "output_type": "display_data"
    }
   ],
   "source": [
    "postfms = pretfms[:]\n",
    "posimg = compose(nposimgs[idx], postfms)\n",
    "show_sample(posimg);"
   ]
  },
  {
   "cell_type": "code",
   "execution_count": 338,
   "metadata": {},
   "outputs": [
    {
     "data": {
      "text/plain": [
       "tensor([[[0.4471, 0.3569],\n",
       "         [0.4118, 0.4510]],\n",
       "\n",
       "        [[0.4392, 0.3647],\n",
       "         [0.4078, 0.4431]],\n",
       "\n",
       "        [[0.3725, 0.3059],\n",
       "         [0.3451, 0.3647]]])"
      ]
     },
     "execution_count": 338,
     "metadata": {},
     "output_type": "execute_result"
    }
   ],
   "source": [
    "preimg"
   ]
  },
  {
   "cell_type": "code",
   "execution_count": 337,
   "metadata": {},
   "outputs": [
    {
     "data": {
      "text/plain": [
       "tensor([[[0.4471, 0.3569],\n",
       "         [0.4118, 0.4510]],\n",
       "\n",
       "        [[0.4392, 0.3647],\n",
       "         [0.4078, 0.4431]],\n",
       "\n",
       "        [[0.3725, 0.3059],\n",
       "         [0.3451, 0.3647]],\n",
       "\n",
       "        [[0.4157, 0.3216],\n",
       "         [0.4196, 0.4039]],\n",
       "\n",
       "        [[0.4157, 0.3451],\n",
       "         [0.4078, 0.4078]],\n",
       "\n",
       "        [[0.3412, 0.2941],\n",
       "         [0.3412, 0.3333]]])"
      ]
     },
     "execution_count": 337,
     "metadata": {},
     "output_type": "execute_result"
    }
   ],
   "source": [
    "torch.cat([preimg, posimg], dim=0)"
   ]
  },
  {
   "cell_type": "markdown",
   "metadata": {},
   "source": [
    "Can't really use `ImageList` here because its `get` method opens just one image file.  Need to go further back to the pre-disaster image file name, get the corrsponding post-disaster image file name, and proceed from there.  Since the transforms in taking an image file name to a normalized float tensor are the same for both the pre-disaster and post-disaster image, they can be simply looped over these two images, and this is done with `TupleTransform` which applies the same transform(s) to every element of a tuple.  "
   ]
  },
  {
   "cell_type": "code",
   "execution_count": 342,
   "metadata": {},
   "outputs": [],
   "source": [
    "class TupleTransform():\n",
    "    def __init__(self, funcs): \n",
    "        if not isinstance(funcs, list): funcs = [funcs]\n",
    "        self.funcs = funcs\n",
    "    def __call__(self, xs):\n",
    "        return tuple(compose(x, self.funcs) for x in xs)"
   ]
  },
  {
   "cell_type": "code",
   "execution_count": 343,
   "metadata": {},
   "outputs": [],
   "source": [
    "def get_imgpaths(n): return n, pre2post_fpath(n)"
   ]
  },
  {
   "cell_type": "code",
   "execution_count": 382,
   "metadata": {},
   "outputs": [],
   "source": [
    "def concat_channels(imgs): return torch.cat(imgs, dim=0)"
   ]
  },
  {
   "cell_type": "code",
   "execution_count": 401,
   "metadata": {},
   "outputs": [],
   "source": [
    "tfms_imgs = [PIL.Image.open, ResizeFixed(516, resample=PIL.Image.BILINEAR), to_byte_tensor, to_float_tensor,\n",
    "             Normalize(1/255)]\n",
    "\n",
    "xtfms = [get_imgpaths, TupleTransform(tfms_imgs), concat_channels]\n",
    "\n",
    "il = ItemList(npreimgs, tfms=xtfms)"
   ]
  },
  {
   "cell_type": "code",
   "execution_count": 404,
   "metadata": {},
   "outputs": [
    {
     "data": {
      "text/plain": [
       "torch.Size([6, 516, 516])"
      ]
     },
     "execution_count": 404,
     "metadata": {},
     "output_type": "execute_result"
    }
   ],
   "source": [
    "il[11].shape"
   ]
  },
  {
   "cell_type": "code",
   "execution_count": null,
   "metadata": {},
   "outputs": [],
   "source": []
  },
  {
   "cell_type": "markdown",
   "metadata": {},
   "source": [
    "# - fin"
   ]
  },
  {
   "cell_type": "code",
   "execution_count": null,
   "metadata": {},
   "outputs": [],
   "source": [
    "! python notebook2script.py 01b_load_data_2in1out.ipynb"
   ]
  }
 ],
 "metadata": {
  "kernelspec": {
   "display_name": "Python 3",
   "language": "python",
   "name": "python3"
  },
  "language_info": {
   "codemirror_mode": {
    "name": "ipython",
    "version": 3
   },
   "file_extension": ".py",
   "mimetype": "text/x-python",
   "name": "python",
   "nbconvert_exporter": "python",
   "pygments_lexer": "ipython3",
   "version": "3.7.4"
  }
 },
 "nbformat": 4,
 "nbformat_minor": 2
}
