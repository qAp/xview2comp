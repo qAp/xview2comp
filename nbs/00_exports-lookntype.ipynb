{
 "cells": [
  {
   "cell_type": "code",
   "execution_count": 3,
   "metadata": {},
   "outputs": [],
   "source": [
    "#export \n",
    "TEST = 'test'"
   ]
  },
  {
   "cell_type": "code",
   "execution_count": 4,
   "metadata": {},
   "outputs": [
    {
     "name": "stdout",
     "output_type": "stream",
     "text": [
      "Converted 00_exports-lookntype.ipynb to exp/nb_00.py\r\n"
     ]
    }
   ],
   "source": [
    "! python notebook2script.py 00_exports-lookntype.ipynb"
   ]
  },
  {
   "cell_type": "markdown",
   "metadata": {},
   "source": [
    "hahahah"
   ]
  },
  {
   "cell_type": "code",
   "execution_count": 9,
   "metadata": {
    "scrolled": false
   },
   "outputs": [
    {
     "data": {
      "text/plain": [
       "[{'cell_type': 'code',\n",
       "  'execution_count': 1,\n",
       "  'metadata': {},\n",
       "  'outputs': [],\n",
       "  'source': ['# export \\n', \"TEST = 'test'\"]},\n",
       " {'cell_type': 'code',\n",
       "  'execution_count': 3,\n",
       "  'metadata': {},\n",
       "  'outputs': [{'name': 'stdout',\n",
       "    'output_type': 'stream',\n",
       "    'text': ['Converted 00_exports-lookntype.ipynb to exp/nb_00.py\\r\\n']}],\n",
       "  'source': ['! python notebook2script.py 00_exports-lookntype.ipynb']},\n",
       " {'cell_type': 'markdown', 'metadata': {}, 'source': ['hahahah']},\n",
       " {'cell_type': 'code',\n",
       "  'execution_count': 8,\n",
       "  'metadata': {},\n",
       "  'outputs': [{'data': {'text/plain': [\"[{'cell_type': 'code',\\n\",\n",
       "      \"  'execution_count': 1,\\n\",\n",
       "      \"  'metadata': {},\\n\",\n",
       "      \"  'outputs': [],\\n\",\n",
       "      '  \\'source\\': [\\'# export \\\\n\\', \"TEST = \\'test\\'\"]},\\n',\n",
       "      \" {'cell_type': 'code',\\n\",\n",
       "      \"  'execution_count': 3,\\n\",\n",
       "      \"  'metadata': {},\\n\",\n",
       "      \"  'outputs': [{'name': 'stdout',\\n\",\n",
       "      \"    'output_type': 'stream',\\n\",\n",
       "      \"    'text': ['Converted 00_exports-lookntype.ipynb to exp/nb_00.py\\\\r\\\\n']}],\\n\",\n",
       "      \"  'source': ['! python notebook2script.py 00_exports-lookntype.ipynb']},\\n\",\n",
       "      \" {'cell_type': 'code',\\n\",\n",
       "      \"  'execution_count': 7,\\n\",\n",
       "      \"  'metadata': {},\\n\",\n",
       "      '  \\'outputs\\': [{\\'data\\': {\\'text/plain\\': [\"[{\\'cell_type\\': \\'code\\',\\\\n\",\\n',\n",
       "      '      \"  \\'execution_count\\': 1,\\\\n\",\\n',\n",
       "      '      \"  \\'metadata\\': {},\\\\n\",\\n',\n",
       "      '      \"  \\'outputs\\': [],\\\\n\",\\n',\n",
       "      '      \\'  \\\\\\'source\\\\\\': [\\\\\\'# export \\\\\\\\n\\\\\\', \"TEST = \\\\\\'test\\\\\\'\"]},\\\\n\\',\\n',\n",
       "      '      \" {\\'cell_type\\': \\'code\\',\\\\n\",\\n',\n",
       "      '      \"  \\'execution_count\\': 3,\\\\n\",\\n',\n",
       "      '      \"  \\'metadata\\': {},\\\\n\",\\n',\n",
       "      '      \"  \\'outputs\\': [{\\'name\\': \\'stdout\\',\\\\n\",\\n',\n",
       "      '      \"    \\'output_type\\': \\'stream\\',\\\\n\",\\n',\n",
       "      '      \"    \\'text\\': [\\'Converted 00_exports-lookntype.ipynb to exp/nb_00.py\\\\\\\\r\\\\\\\\n\\']}],\\\\n\",\\n',\n",
       "      '      \"  \\'source\\': [\\'! python notebook2script.py 00_exports-lookntype.ipynb\\']},\\\\n\",\\n',\n",
       "      '      \" {\\'cell_type\\': \\'code\\',\\\\n\",\\n',\n",
       "      '      \"  \\'execution_count\\': None,\\\\n\",\\n',\n",
       "      '      \"  \\'metadata\\': {},\\\\n\",\\n',\n",
       "      '      \"  \\'outputs\\': [],\\\\n\",\\n',\n",
       "      '      \"  \\'source\\': [\\'op\\']}]\"]},\\n',\n",
       "      \"    'execution_count': 7,\\n\",\n",
       "      \"    'metadata': {},\\n\",\n",
       "      \"    'output_type': 'execute_result'}],\\n\",\n",
       "      \"  'source': ['import json\\\\n',\\n\",\n",
       "      '   \"json.load(open(\\'00_exports-lookntype.ipynb\\', mode=\\'r\\'))[\\'cells\\']\"]},\\n',\n",
       "      \" {'cell_type': 'code',\\n\",\n",
       "      \"  'execution_count': None,\\n\",\n",
       "      \"  'metadata': {},\\n\",\n",
       "      \"  'outputs': [],\\n\",\n",
       "      \"  'source': []}]\"]},\n",
       "    'execution_count': 8,\n",
       "    'metadata': {},\n",
       "    'output_type': 'execute_result'}],\n",
       "  'source': ['import json\\n',\n",
       "   \"json.load(open('00_exports-lookntype.ipynb', mode='r'))['cells']\"]},\n",
       " {'cell_type': 'code',\n",
       "  'execution_count': None,\n",
       "  'metadata': {},\n",
       "  'outputs': [],\n",
       "  'source': []},\n",
       " {'cell_type': 'code',\n",
       "  'execution_count': None,\n",
       "  'metadata': {},\n",
       "  'outputs': [],\n",
       "  'source': []},\n",
       " {'cell_type': 'code',\n",
       "  'execution_count': None,\n",
       "  'metadata': {},\n",
       "  'outputs': [],\n",
       "  'source': []},\n",
       " {'cell_type': 'code',\n",
       "  'execution_count': None,\n",
       "  'metadata': {},\n",
       "  'outputs': [],\n",
       "  'source': []},\n",
       " {'cell_type': 'code',\n",
       "  'execution_count': None,\n",
       "  'metadata': {},\n",
       "  'outputs': [],\n",
       "  'source': []},\n",
       " {'cell_type': 'code',\n",
       "  'execution_count': None,\n",
       "  'metadata': {},\n",
       "  'outputs': [],\n",
       "  'source': []},\n",
       " {'cell_type': 'code',\n",
       "  'execution_count': None,\n",
       "  'metadata': {},\n",
       "  'outputs': [],\n",
       "  'source': []},\n",
       " {'cell_type': 'code',\n",
       "  'execution_count': None,\n",
       "  'metadata': {},\n",
       "  'outputs': [],\n",
       "  'source': []},\n",
       " {'cell_type': 'code',\n",
       "  'execution_count': None,\n",
       "  'metadata': {},\n",
       "  'outputs': [],\n",
       "  'source': []},\n",
       " {'cell_type': 'code',\n",
       "  'execution_count': None,\n",
       "  'metadata': {},\n",
       "  'outputs': [],\n",
       "  'source': []}]"
      ]
     },
     "execution_count": 9,
     "metadata": {},
     "output_type": "execute_result"
    }
   ],
   "source": [
    "import json\n",
    "json.load(open('00_exports-lookntype.ipynb', mode='r'))['cells']"
   ]
  },
  {
   "cell_type": "code",
   "execution_count": null,
   "metadata": {},
   "outputs": [],
   "source": []
  },
  {
   "cell_type": "code",
   "execution_count": null,
   "metadata": {},
   "outputs": [],
   "source": []
  },
  {
   "cell_type": "code",
   "execution_count": null,
   "metadata": {},
   "outputs": [],
   "source": []
  },
  {
   "cell_type": "code",
   "execution_count": null,
   "metadata": {},
   "outputs": [],
   "source": []
  },
  {
   "cell_type": "code",
   "execution_count": null,
   "metadata": {},
   "outputs": [],
   "source": []
  },
  {
   "cell_type": "code",
   "execution_count": null,
   "metadata": {},
   "outputs": [],
   "source": []
  },
  {
   "cell_type": "code",
   "execution_count": null,
   "metadata": {},
   "outputs": [],
   "source": []
  },
  {
   "cell_type": "code",
   "execution_count": null,
   "metadata": {},
   "outputs": [],
   "source": []
  },
  {
   "cell_type": "code",
   "execution_count": null,
   "metadata": {},
   "outputs": [],
   "source": []
  },
  {
   "cell_type": "code",
   "execution_count": null,
   "metadata": {},
   "outputs": [],
   "source": []
  }
 ],
 "metadata": {
  "kernelspec": {
   "display_name": "Python 3",
   "language": "python",
   "name": "python3"
  },
  "language_info": {
   "codemirror_mode": {
    "name": "ipython",
    "version": 3
   },
   "file_extension": ".py",
   "mimetype": "text/x-python",
   "name": "python",
   "nbconvert_exporter": "python",
   "pygments_lexer": "ipython3",
   "version": "3.7.4"
  }
 },
 "nbformat": 4,
 "nbformat_minor": 2
}
